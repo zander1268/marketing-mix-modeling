{
 "cells": [
  {
   "cell_type": "code",
   "execution_count": 138,
   "metadata": {},
   "outputs": [],
   "source": [
    "#Imports"
   ]
  },
  {
   "cell_type": "code",
   "execution_count": 139,
   "metadata": {},
   "outputs": [],
   "source": [
    "import pandas as pd\n",
    "import matplotlib.pyplot as plt\n",
    "from sklearn.metrics import r2_score\n",
    "import numpy as np\n",
    "%matplotlib inline"
   ]
  },
  {
   "cell_type": "code",
   "execution_count": 140,
   "metadata": {},
   "outputs": [],
   "source": [
    "#Load in our data"
   ]
  },
  {
   "cell_type": "code",
   "execution_count": 141,
   "metadata": {},
   "outputs": [],
   "source": [
    "data = pd.read_csv(   'https://raw.githubusercontent.com/Garve/datasets/4576d323bf2b66c906d5130d686245ad205505cf/mmm.csv',\n",
    "    parse_dates=['Date'],\n",
    "    index_col='Date'\n",
    ")\n",
    "X = data.drop(columns=['Sales'])\n",
    "y = data['Sales']"
   ]
  },
  {
   "cell_type": "markdown",
   "metadata": {},
   "source": [
    "### Data exploration"
   ]
  },
  {
   "cell_type": "code",
   "execution_count": 142,
   "metadata": {},
   "outputs": [
    {
     "data": {
      "text/html": [
       "<div>\n",
       "<style scoped>\n",
       "    .dataframe tbody tr th:only-of-type {\n",
       "        vertical-align: middle;\n",
       "    }\n",
       "\n",
       "    .dataframe tbody tr th {\n",
       "        vertical-align: top;\n",
       "    }\n",
       "\n",
       "    .dataframe thead th {\n",
       "        text-align: right;\n",
       "    }\n",
       "</style>\n",
       "<table border=\"1\" class=\"dataframe\">\n",
       "  <thead>\n",
       "    <tr style=\"text-align: right;\">\n",
       "      <th></th>\n",
       "      <th>TV Spend</th>\n",
       "      <th>Radio Spend</th>\n",
       "      <th>Online Banners Spend</th>\n",
       "      <th>Product Sales</th>\n",
       "    </tr>\n",
       "    <tr>\n",
       "      <th>Date</th>\n",
       "      <th></th>\n",
       "      <th></th>\n",
       "      <th></th>\n",
       "      <th></th>\n",
       "    </tr>\n",
       "  </thead>\n",
       "  <tbody>\n",
       "    <tr>\n",
       "      <th>2018-01-07</th>\n",
       "      <td>13528.10</td>\n",
       "      <td>0.00</td>\n",
       "      <td>0.00</td>\n",
       "      <td>9779.80</td>\n",
       "    </tr>\n",
       "    <tr>\n",
       "      <th>2018-01-14</th>\n",
       "      <td>0.00</td>\n",
       "      <td>5349.65</td>\n",
       "      <td>2218.93</td>\n",
       "      <td>13245.19</td>\n",
       "    </tr>\n",
       "    <tr>\n",
       "      <th>2018-01-21</th>\n",
       "      <td>0.00</td>\n",
       "      <td>4235.86</td>\n",
       "      <td>2046.96</td>\n",
       "      <td>12022.66</td>\n",
       "    </tr>\n",
       "    <tr>\n",
       "      <th>2018-01-28</th>\n",
       "      <td>0.00</td>\n",
       "      <td>3562.21</td>\n",
       "      <td>0.00</td>\n",
       "      <td>8846.95</td>\n",
       "    </tr>\n",
       "    <tr>\n",
       "      <th>2018-02-04</th>\n",
       "      <td>0.00</td>\n",
       "      <td>0.00</td>\n",
       "      <td>2187.29</td>\n",
       "      <td>9797.07</td>\n",
       "    </tr>\n",
       "    <tr>\n",
       "      <th>...</th>\n",
       "      <td>...</td>\n",
       "      <td>...</td>\n",
       "      <td>...</td>\n",
       "      <td>...</td>\n",
       "    </tr>\n",
       "    <tr>\n",
       "      <th>2021-10-03</th>\n",
       "      <td>0.00</td>\n",
       "      <td>0.00</td>\n",
       "      <td>1691.68</td>\n",
       "      <td>9030.17</td>\n",
       "    </tr>\n",
       "    <tr>\n",
       "      <th>2021-10-10</th>\n",
       "      <td>11543.58</td>\n",
       "      <td>4615.35</td>\n",
       "      <td>2518.88</td>\n",
       "      <td>15904.11</td>\n",
       "    </tr>\n",
       "    <tr>\n",
       "      <th>2021-10-17</th>\n",
       "      <td>0.00</td>\n",
       "      <td>4556.16</td>\n",
       "      <td>1919.19</td>\n",
       "      <td>12839.29</td>\n",
       "    </tr>\n",
       "    <tr>\n",
       "      <th>2021-10-24</th>\n",
       "      <td>0.00</td>\n",
       "      <td>0.00</td>\n",
       "      <td>1707.65</td>\n",
       "      <td>9063.45</td>\n",
       "    </tr>\n",
       "    <tr>\n",
       "      <th>2021-10-31</th>\n",
       "      <td>0.00</td>\n",
       "      <td>0.00</td>\n",
       "      <td>1863.31</td>\n",
       "      <td>7250.21</td>\n",
       "    </tr>\n",
       "  </tbody>\n",
       "</table>\n",
       "<p>200 rows × 4 columns</p>\n",
       "</div>"
      ],
      "text/plain": [
       "            TV Spend  Radio Spend  Online Banners Spend  Product Sales\n",
       "Date                                                                  \n",
       "2018-01-07  13528.10         0.00                  0.00        9779.80\n",
       "2018-01-14      0.00      5349.65               2218.93       13245.19\n",
       "2018-01-21      0.00      4235.86               2046.96       12022.66\n",
       "2018-01-28      0.00      3562.21                  0.00        8846.95\n",
       "2018-02-04      0.00         0.00               2187.29        9797.07\n",
       "...              ...          ...                   ...            ...\n",
       "2021-10-03      0.00         0.00               1691.68        9030.17\n",
       "2021-10-10  11543.58      4615.35               2518.88       15904.11\n",
       "2021-10-17      0.00      4556.16               1919.19       12839.29\n",
       "2021-10-24      0.00         0.00               1707.65        9063.45\n",
       "2021-10-31      0.00         0.00               1863.31        7250.21\n",
       "\n",
       "[200 rows x 4 columns]"
      ]
     },
     "execution_count": 142,
     "metadata": {},
     "output_type": "execute_result"
    }
   ],
   "source": [
    "data_visual = data.copy()\n",
    "data_visual.rename(columns={\"TV\":\"TV Spend\",\"Radio\":\"Radio Spend\",\"Banners\":\"Online Banners Spend\",\"Sales\":\"Product Sales\"},inplace=True)\n",
    "data_visual"
   ]
  },
  {
   "cell_type": "markdown",
   "metadata": {},
   "source": [
    "## Attempt w/ Linear Regression"
   ]
  },
  {
   "cell_type": "code",
   "execution_count": 143,
   "metadata": {},
   "outputs": [
    {
     "name": "stdout",
     "output_type": "stream",
     "text": [
      "cross val scores [0.69594303 0.69302285 0.66850729 0.78807363 0.73512387]\n",
      "mean cross val score 0.716134134746767\n"
     ]
    }
   ],
   "source": [
    "from sklearn.linear_model import LinearRegression\n",
    "from sklearn.model_selection import cross_val_score, TimeSeriesSplit\n",
    "import pandas as pd\n",
    "data = pd.read_csv(\n",
    "    'https://raw.githubusercontent.com/Garve/datasets/4576d323bf2b66c906d5130d686245ad205505cf/mmm.csv',\n",
    "    parse_dates=['Date'],\n",
    "    index_col='Date'\n",
    ")\n",
    "X = data.drop(columns=['Sales'])\n",
    "y = data['Sales']\n",
    "lr = LinearRegression()\n",
    "print(f'cross val scores {cross_val_score(lr, X, y, cv=TimeSeriesSplit())}')\n",
    "print(f'mean cross val score {np.mean(cross_val_score(lr, X, y, cv=TimeSeriesSplit()))}')"
   ]
  },
  {
   "cell_type": "code",
   "execution_count": 144,
   "metadata": {},
   "outputs": [
    {
     "data": {
      "text/plain": [
       "LinearRegression()"
      ]
     },
     "execution_count": 144,
     "metadata": {},
     "output_type": "execute_result"
    }
   ],
   "source": [
    "lr.fit(X,y)"
   ]
  },
  {
   "cell_type": "code",
   "execution_count": 145,
   "metadata": {},
   "outputs": [
    {
     "data": {
      "text/plain": [
       "array([0.35968382, 0.48833246, 1.2159193 ])"
      ]
     },
     "execution_count": 145,
     "metadata": {},
     "output_type": "execute_result"
    }
   ],
   "source": [
    "lr.coef_"
   ]
  },
  {
   "cell_type": "code",
   "execution_count": 146,
   "metadata": {},
   "outputs": [
    {
     "data": {
      "text/html": [
       "<div>\n",
       "<style scoped>\n",
       "    .dataframe tbody tr th:only-of-type {\n",
       "        vertical-align: middle;\n",
       "    }\n",
       "\n",
       "    .dataframe tbody tr th {\n",
       "        vertical-align: top;\n",
       "    }\n",
       "\n",
       "    .dataframe thead th {\n",
       "        text-align: right;\n",
       "    }\n",
       "</style>\n",
       "<table border=\"1\" class=\"dataframe\">\n",
       "  <thead>\n",
       "    <tr style=\"text-align: right;\">\n",
       "      <th></th>\n",
       "      <th>Coef</th>\n",
       "    </tr>\n",
       "  </thead>\n",
       "  <tbody>\n",
       "    <tr>\n",
       "      <th>TV</th>\n",
       "      <td>0.359684</td>\n",
       "    </tr>\n",
       "    <tr>\n",
       "      <th>Radio</th>\n",
       "      <td>0.488332</td>\n",
       "    </tr>\n",
       "    <tr>\n",
       "      <th>Banners</th>\n",
       "      <td>1.215919</td>\n",
       "    </tr>\n",
       "  </tbody>\n",
       "</table>\n",
       "</div>"
      ],
      "text/plain": [
       "             Coef\n",
       "TV       0.359684\n",
       "Radio    0.488332\n",
       "Banners  1.215919"
      ]
     },
     "execution_count": 146,
     "metadata": {},
     "output_type": "execute_result"
    }
   ],
   "source": [
    "#Return coeficients for each type of marketing spend\n",
    "lr_coef_table = pd.DataFrame(lr.coef_.flatten())\n",
    "lr_coef_table.index = list(X.columns)\n",
    "lr_coef_table = lr_coef_table.rename(columns={0:\"Coef\"})\n",
    "lr_coef_table"
   ]
  },
  {
   "cell_type": "code",
   "execution_count": 147,
   "metadata": {},
   "outputs": [
    {
     "data": {
      "text/plain": [
       "6678.396933606161"
      ]
     },
     "execution_count": 147,
     "metadata": {},
     "output_type": "execute_result"
    }
   ],
   "source": [
    "#Return the y intercept, which is the baseline in our marketing mix model\n",
    "baseline = lr.intercept_\n",
    "baseline"
   ]
  },
  {
   "cell_type": "code",
   "execution_count": 148,
   "metadata": {},
   "outputs": [
    {
     "name": "stdout",
     "output_type": "stream",
     "text": [
      "lr sales prediction 16147.015941583588\n",
      "Actual sales 15904.11\n",
      "Delta 242.90594158358726\n"
     ]
    }
   ],
   "source": [
    "#Test our lr on a single week of spend data\n",
    "test_week_spend = data.loc[\"2021-10-10\"][0:3].values\n",
    "\n",
    "#Use sample week spend data to predict sales\n",
    "spend_test_prediction = lr.predict(([test_week_spend]))[0]\n",
    "\n",
    "#Now use our lr to attempt a prediction using this selected week's spend figure and our lr's coeficients\n",
    "print(f'lr sales prediction {spend_test_prediction}')\n",
    "print(f'Actual sales {data.loc[\"2021-10-10\"][3]}')\n",
    "print(f'Delta {spend_test_prediction-data.loc[\"2021-10-10\"][3]}')"
   ]
  },
  {
   "cell_type": "code",
   "execution_count": 149,
   "metadata": {},
   "outputs": [
    {
     "data": {
      "text/plain": [
       "0.9849566048325976"
      ]
     },
     "execution_count": 149,
     "metadata": {},
     "output_type": "execute_result"
    }
   ],
   "source": [
    "#Next find a correlation factor using truth and predictions\n",
    "correl_factor = data.loc[\"2021-10-10\"][3]/spend_test_prediction\n",
    "correl_factor"
   ]
  },
  {
   "cell_type": "code",
   "execution_count": 150,
   "metadata": {},
   "outputs": [
    {
     "data": {
      "text/html": [
       "<div>\n",
       "<style scoped>\n",
       "    .dataframe tbody tr th:only-of-type {\n",
       "        vertical-align: middle;\n",
       "    }\n",
       "\n",
       "    .dataframe tbody tr th {\n",
       "        vertical-align: top;\n",
       "    }\n",
       "\n",
       "    .dataframe thead th {\n",
       "        text-align: right;\n",
       "    }\n",
       "</style>\n",
       "<table border=\"1\" class=\"dataframe\">\n",
       "  <thead>\n",
       "    <tr style=\"text-align: right;\">\n",
       "      <th></th>\n",
       "      <th>Actual Spend/Sales</th>\n",
       "      <th>Coef</th>\n",
       "    </tr>\n",
       "  </thead>\n",
       "  <tbody>\n",
       "    <tr>\n",
       "      <th>TV</th>\n",
       "      <td>11543.58</td>\n",
       "      <td>0.359684</td>\n",
       "    </tr>\n",
       "    <tr>\n",
       "      <th>Radio</th>\n",
       "      <td>4615.35</td>\n",
       "      <td>0.488332</td>\n",
       "    </tr>\n",
       "    <tr>\n",
       "      <th>Banners</th>\n",
       "      <td>2518.88</td>\n",
       "      <td>1.215919</td>\n",
       "    </tr>\n",
       "    <tr>\n",
       "      <th>Sales</th>\n",
       "      <td>15904.11</td>\n",
       "      <td>NaN</td>\n",
       "    </tr>\n",
       "  </tbody>\n",
       "</table>\n",
       "</div>"
      ],
      "text/plain": [
       "         Actual Spend/Sales      Coef\n",
       "TV                 11543.58  0.359684\n",
       "Radio               4615.35  0.488332\n",
       "Banners             2518.88  1.215919\n",
       "Sales              15904.11       NaN"
      ]
     },
     "execution_count": 150,
     "metadata": {},
     "output_type": "execute_result"
    }
   ],
   "source": [
    "sample_week = pd.DataFrame(data.loc[\"2021-10-10\"])\n",
    "sample_week[\"Actual Spend/Sales\"] = sample_week[\"2021-10-10\"]\n",
    "sample_week.drop(sample_week.columns[0], axis=1,inplace=True)\n",
    "sample_week[\"Coef\"] = 0\n",
    "sample_week[\"Coef\"] = lr_coef_table\n",
    "sample_week"
   ]
  },
  {
   "cell_type": "code",
   "execution_count": 151,
   "metadata": {},
   "outputs": [
    {
     "data": {
      "text/html": [
       "<div>\n",
       "<style scoped>\n",
       "    .dataframe tbody tr th:only-of-type {\n",
       "        vertical-align: middle;\n",
       "    }\n",
       "\n",
       "    .dataframe tbody tr th {\n",
       "        vertical-align: top;\n",
       "    }\n",
       "\n",
       "    .dataframe thead th {\n",
       "        text-align: right;\n",
       "    }\n",
       "</style>\n",
       "<table border=\"1\" class=\"dataframe\">\n",
       "  <thead>\n",
       "    <tr style=\"text-align: right;\">\n",
       "      <th></th>\n",
       "      <th>Actual Spend/Sales</th>\n",
       "      <th>Coef</th>\n",
       "    </tr>\n",
       "  </thead>\n",
       "  <tbody>\n",
       "    <tr>\n",
       "      <th>TV</th>\n",
       "      <td>11543.580000</td>\n",
       "      <td>0.359684</td>\n",
       "    </tr>\n",
       "    <tr>\n",
       "      <th>Radio</th>\n",
       "      <td>4615.350000</td>\n",
       "      <td>0.488332</td>\n",
       "    </tr>\n",
       "    <tr>\n",
       "      <th>Banners</th>\n",
       "      <td>2518.880000</td>\n",
       "      <td>1.215919</td>\n",
       "    </tr>\n",
       "    <tr>\n",
       "      <th>Baseline</th>\n",
       "      <td>6678.396934</td>\n",
       "      <td>1.000000</td>\n",
       "    </tr>\n",
       "    <tr>\n",
       "      <th>Sales</th>\n",
       "      <td>15904.110000</td>\n",
       "      <td>NaN</td>\n",
       "    </tr>\n",
       "  </tbody>\n",
       "</table>\n",
       "</div>"
      ],
      "text/plain": [
       "          Actual Spend/Sales      Coef\n",
       "TV              11543.580000  0.359684\n",
       "Radio            4615.350000  0.488332\n",
       "Banners          2518.880000  1.215919\n",
       "Baseline         6678.396934  1.000000\n",
       "Sales           15904.110000       NaN"
      ]
     },
     "execution_count": 151,
     "metadata": {},
     "output_type": "execute_result"
    }
   ],
   "source": [
    "#Create a baseline row that equal to y intercept with 1 for coeficient\n",
    "sample_week.loc[len(sample_week.index)] = [(baseline),1]\n",
    "sample_week = sample_week.rename(index={4:\"Baseline\"})\n",
    "sample_week = sample_week.reindex([\"TV\",\"Radio\",\"Banners\",\"Baseline\",\"Sales\"])\n",
    "sample_week"
   ]
  },
  {
   "cell_type": "code",
   "execution_count": 152,
   "metadata": {},
   "outputs": [
    {
     "data": {
      "text/html": [
       "<div>\n",
       "<style scoped>\n",
       "    .dataframe tbody tr th:only-of-type {\n",
       "        vertical-align: middle;\n",
       "    }\n",
       "\n",
       "    .dataframe tbody tr th {\n",
       "        vertical-align: top;\n",
       "    }\n",
       "\n",
       "    .dataframe thead th {\n",
       "        text-align: right;\n",
       "    }\n",
       "</style>\n",
       "<table border=\"1\" class=\"dataframe\">\n",
       "  <thead>\n",
       "    <tr style=\"text-align: right;\">\n",
       "      <th></th>\n",
       "      <th>Actual Spend/Sales</th>\n",
       "      <th>Coef</th>\n",
       "      <th>Predicted Sales</th>\n",
       "    </tr>\n",
       "  </thead>\n",
       "  <tbody>\n",
       "    <tr>\n",
       "      <th>TV</th>\n",
       "      <td>11543.580000</td>\n",
       "      <td>0.359684</td>\n",
       "      <td>4089.578199</td>\n",
       "    </tr>\n",
       "    <tr>\n",
       "      <th>Radio</th>\n",
       "      <td>4615.350000</td>\n",
       "      <td>0.488332</td>\n",
       "      <td>2219.920052</td>\n",
       "    </tr>\n",
       "    <tr>\n",
       "      <th>Banners</th>\n",
       "      <td>2518.880000</td>\n",
       "      <td>1.215919</td>\n",
       "      <td>3016.680579</td>\n",
       "    </tr>\n",
       "    <tr>\n",
       "      <th>Baseline</th>\n",
       "      <td>6678.396934</td>\n",
       "      <td>1.000000</td>\n",
       "      <td>6577.931169</td>\n",
       "    </tr>\n",
       "    <tr>\n",
       "      <th>Sales</th>\n",
       "      <td>15904.110000</td>\n",
       "      <td>NaN</td>\n",
       "      <td>15904.110000</td>\n",
       "    </tr>\n",
       "  </tbody>\n",
       "</table>\n",
       "</div>"
      ],
      "text/plain": [
       "          Actual Spend/Sales      Coef  Predicted Sales\n",
       "TV              11543.580000  0.359684      4089.578199\n",
       "Radio            4615.350000  0.488332      2219.920052\n",
       "Banners          2518.880000  1.215919      3016.680579\n",
       "Baseline         6678.396934  1.000000      6577.931169\n",
       "Sales           15904.110000       NaN     15904.110000"
      ]
     },
     "execution_count": 152,
     "metadata": {},
     "output_type": "execute_result"
    }
   ],
   "source": [
    "#Make predictions based on our acutal spend numbers, coeficients and correlation factor\n",
    "sample_week[\"Predicted Sales\"]= sample_week[\"Actual Spend/Sales\"]*correl_factor*sample_week[\"Coef\"]\n",
    "sample_week[\"Predicted Sales\"][4] = sum(sample_week[\"Predicted Sales\"][0:4])\n",
    "sample_week"
   ]
  },
  {
   "cell_type": "code",
   "execution_count": 153,
   "metadata": {},
   "outputs": [],
   "source": [
    "#Great, our predictions were accurate!"
   ]
  },
  {
   "cell_type": "code",
   "execution_count": 154,
   "metadata": {},
   "outputs": [],
   "source": [
    "weights = pd.Series(lr.coef_,index=X.columns)\n",
    "#unadjusted_sales_predictions = weights"
   ]
  },
  {
   "cell_type": "code",
   "execution_count": 155,
   "metadata": {},
   "outputs": [
    {
     "data": {
      "text/plain": [
       "TV         0.359684\n",
       "Radio      0.488332\n",
       "Banners    1.215919\n",
       "dtype: float64"
      ]
     },
     "execution_count": 155,
     "metadata": {},
     "output_type": "execute_result"
    }
   ],
   "source": [
    "weights"
   ]
  },
  {
   "cell_type": "code",
   "execution_count": 156,
   "metadata": {},
   "outputs": [
    {
     "data": {
      "text/html": [
       "<div>\n",
       "<style scoped>\n",
       "    .dataframe tbody tr th:only-of-type {\n",
       "        vertical-align: middle;\n",
       "    }\n",
       "\n",
       "    .dataframe tbody tr th {\n",
       "        vertical-align: top;\n",
       "    }\n",
       "\n",
       "    .dataframe thead th {\n",
       "        text-align: right;\n",
       "    }\n",
       "</style>\n",
       "<table border=\"1\" class=\"dataframe\">\n",
       "  <thead>\n",
       "    <tr style=\"text-align: right;\">\n",
       "      <th></th>\n",
       "      <th>TV</th>\n",
       "      <th>Radio</th>\n",
       "      <th>Banners</th>\n",
       "      <th>Base</th>\n",
       "    </tr>\n",
       "    <tr>\n",
       "      <th>Date</th>\n",
       "      <th></th>\n",
       "      <th></th>\n",
       "      <th></th>\n",
       "      <th></th>\n",
       "    </tr>\n",
       "  </thead>\n",
       "  <tbody>\n",
       "    <tr>\n",
       "      <th>2018-01-07</th>\n",
       "      <td>4865.838699</td>\n",
       "      <td>0.000000</td>\n",
       "      <td>0.000000</td>\n",
       "      <td>6678.396934</td>\n",
       "    </tr>\n",
       "    <tr>\n",
       "      <th>2018-01-14</th>\n",
       "      <td>0.000000</td>\n",
       "      <td>2612.407764</td>\n",
       "      <td>2698.039815</td>\n",
       "      <td>6678.396934</td>\n",
       "    </tr>\n",
       "    <tr>\n",
       "      <th>2018-01-21</th>\n",
       "      <td>0.000000</td>\n",
       "      <td>2068.507949</td>\n",
       "      <td>2488.938173</td>\n",
       "      <td>6678.396934</td>\n",
       "    </tr>\n",
       "    <tr>\n",
       "      <th>2018-01-28</th>\n",
       "      <td>0.000000</td>\n",
       "      <td>1739.542785</td>\n",
       "      <td>0.000000</td>\n",
       "      <td>6678.396934</td>\n",
       "    </tr>\n",
       "    <tr>\n",
       "      <th>2018-02-04</th>\n",
       "      <td>0.000000</td>\n",
       "      <td>0.000000</td>\n",
       "      <td>2659.568129</td>\n",
       "      <td>6678.396934</td>\n",
       "    </tr>\n",
       "    <tr>\n",
       "      <th>...</th>\n",
       "      <td>...</td>\n",
       "      <td>...</td>\n",
       "      <td>...</td>\n",
       "      <td>...</td>\n",
       "    </tr>\n",
       "    <tr>\n",
       "      <th>2021-10-03</th>\n",
       "      <td>0.000000</td>\n",
       "      <td>0.000000</td>\n",
       "      <td>2056.946364</td>\n",
       "      <td>6678.396934</td>\n",
       "    </tr>\n",
       "    <tr>\n",
       "      <th>2021-10-10</th>\n",
       "      <td>4152.038962</td>\n",
       "      <td>2253.825236</td>\n",
       "      <td>3062.754810</td>\n",
       "      <td>6678.396934</td>\n",
       "    </tr>\n",
       "    <tr>\n",
       "      <th>2021-10-17</th>\n",
       "      <td>0.000000</td>\n",
       "      <td>2224.920837</td>\n",
       "      <td>2333.580164</td>\n",
       "      <td>6678.396934</td>\n",
       "    </tr>\n",
       "    <tr>\n",
       "      <th>2021-10-24</th>\n",
       "      <td>0.000000</td>\n",
       "      <td>0.000000</td>\n",
       "      <td>2076.364595</td>\n",
       "      <td>6678.396934</td>\n",
       "    </tr>\n",
       "    <tr>\n",
       "      <th>2021-10-31</th>\n",
       "      <td>0.000000</td>\n",
       "      <td>0.000000</td>\n",
       "      <td>2265.634593</td>\n",
       "      <td>6678.396934</td>\n",
       "    </tr>\n",
       "  </tbody>\n",
       "</table>\n",
       "<p>200 rows × 4 columns</p>\n",
       "</div>"
      ],
      "text/plain": [
       "                     TV        Radio      Banners         Base\n",
       "Date                                                          \n",
       "2018-01-07  4865.838699     0.000000     0.000000  6678.396934\n",
       "2018-01-14     0.000000  2612.407764  2698.039815  6678.396934\n",
       "2018-01-21     0.000000  2068.507949  2488.938173  6678.396934\n",
       "2018-01-28     0.000000  1739.542785     0.000000  6678.396934\n",
       "2018-02-04     0.000000     0.000000  2659.568129  6678.396934\n",
       "...                 ...          ...          ...          ...\n",
       "2021-10-03     0.000000     0.000000  2056.946364  6678.396934\n",
       "2021-10-10  4152.038962  2253.825236  3062.754810  6678.396934\n",
       "2021-10-17     0.000000  2224.920837  2333.580164  6678.396934\n",
       "2021-10-24     0.000000     0.000000  2076.364595  6678.396934\n",
       "2021-10-31     0.000000     0.000000  2265.634593  6678.396934\n",
       "\n",
       "[200 rows x 4 columns]"
      ]
     },
     "execution_count": 156,
     "metadata": {},
     "output_type": "execute_result"
    }
   ],
   "source": [
    "#Create a Dataframe that contains the product of weights and spend numbers, this will need to be adjusted by the correl factor\n",
    "unadj_contributions = X.copy()\n",
    "unadj_contributions[\"TV\"] = unadj_contributions[\"TV\"]*weights.TV\n",
    "unadj_contributions[\"Radio\"] = unadj_contributions[\"Radio\"]*weights.Radio\n",
    "unadj_contributions[\"Banners\"] = unadj_contributions[\"Banners\"]*weights.Banners\n",
    "unadj_contributions[\"Base\"] = baseline\n",
    "unadj_contributions"
   ]
  },
  {
   "cell_type": "code",
   "execution_count": 157,
   "metadata": {},
   "outputs": [
    {
     "data": {
      "text/html": [
       "<div>\n",
       "<style scoped>\n",
       "    .dataframe tbody tr th:only-of-type {\n",
       "        vertical-align: middle;\n",
       "    }\n",
       "\n",
       "    .dataframe tbody tr th {\n",
       "        vertical-align: top;\n",
       "    }\n",
       "\n",
       "    .dataframe thead th {\n",
       "        text-align: right;\n",
       "    }\n",
       "</style>\n",
       "<table border=\"1\" class=\"dataframe\">\n",
       "  <thead>\n",
       "    <tr style=\"text-align: right;\">\n",
       "      <th></th>\n",
       "      <th>TV</th>\n",
       "      <th>Radio</th>\n",
       "      <th>Banners</th>\n",
       "      <th>Base</th>\n",
       "      <th>Total Predicted Spend</th>\n",
       "    </tr>\n",
       "    <tr>\n",
       "      <th>Date</th>\n",
       "      <th></th>\n",
       "      <th></th>\n",
       "      <th></th>\n",
       "      <th></th>\n",
       "      <th></th>\n",
       "    </tr>\n",
       "  </thead>\n",
       "  <tbody>\n",
       "    <tr>\n",
       "      <th>2018-01-07</th>\n",
       "      <td>4122.137734</td>\n",
       "      <td>0.000000</td>\n",
       "      <td>0.000000</td>\n",
       "      <td>5657.662266</td>\n",
       "      <td>9779.80</td>\n",
       "    </tr>\n",
       "    <tr>\n",
       "      <th>2018-01-14</th>\n",
       "      <td>0.000000</td>\n",
       "      <td>2886.169485</td>\n",
       "      <td>2980.775165</td>\n",
       "      <td>7378.245350</td>\n",
       "      <td>13245.19</td>\n",
       "    </tr>\n",
       "    <tr>\n",
       "      <th>2018-01-21</th>\n",
       "      <td>0.000000</td>\n",
       "      <td>2213.360195</td>\n",
       "      <td>2663.232057</td>\n",
       "      <td>7146.067747</td>\n",
       "      <td>12022.66</td>\n",
       "    </tr>\n",
       "    <tr>\n",
       "      <th>2018-01-28</th>\n",
       "      <td>0.000000</td>\n",
       "      <td>1828.196513</td>\n",
       "      <td>0.000000</td>\n",
       "      <td>7018.753487</td>\n",
       "      <td>8846.95</td>\n",
       "    </tr>\n",
       "    <tr>\n",
       "      <th>2018-02-04</th>\n",
       "      <td>0.000000</td>\n",
       "      <td>0.000000</td>\n",
       "      <td>2790.326902</td>\n",
       "      <td>7006.743098</td>\n",
       "      <td>9797.07</td>\n",
       "    </tr>\n",
       "    <tr>\n",
       "      <th>...</th>\n",
       "      <td>...</td>\n",
       "      <td>...</td>\n",
       "      <td>...</td>\n",
       "      <td>...</td>\n",
       "      <td>...</td>\n",
       "    </tr>\n",
       "    <tr>\n",
       "      <th>2021-10-03</th>\n",
       "      <td>0.000000</td>\n",
       "      <td>0.000000</td>\n",
       "      <td>2126.370391</td>\n",
       "      <td>6903.799609</td>\n",
       "      <td>9030.17</td>\n",
       "    </tr>\n",
       "    <tr>\n",
       "      <th>2021-10-10</th>\n",
       "      <td>4089.578199</td>\n",
       "      <td>2219.920052</td>\n",
       "      <td>3016.680579</td>\n",
       "      <td>6577.931169</td>\n",
       "      <td>15904.11</td>\n",
       "    </tr>\n",
       "    <tr>\n",
       "      <th>2021-10-17</th>\n",
       "      <td>0.000000</td>\n",
       "      <td>2542.196612</td>\n",
       "      <td>2666.350859</td>\n",
       "      <td>7630.742529</td>\n",
       "      <td>12839.29</td>\n",
       "    </tr>\n",
       "    <tr>\n",
       "      <th>2021-10-24</th>\n",
       "      <td>0.000000</td>\n",
       "      <td>0.000000</td>\n",
       "      <td>2149.576162</td>\n",
       "      <td>6913.873838</td>\n",
       "      <td>9063.45</td>\n",
       "    </tr>\n",
       "    <tr>\n",
       "      <th>2021-10-31</th>\n",
       "      <td>0.000000</td>\n",
       "      <td>0.000000</td>\n",
       "      <td>1836.568502</td>\n",
       "      <td>5413.641498</td>\n",
       "      <td>7250.21</td>\n",
       "    </tr>\n",
       "  </tbody>\n",
       "</table>\n",
       "<p>200 rows × 5 columns</p>\n",
       "</div>"
      ],
      "text/plain": [
       "                     TV        Radio      Banners         Base  \\\n",
       "Date                                                             \n",
       "2018-01-07  4122.137734     0.000000     0.000000  5657.662266   \n",
       "2018-01-14     0.000000  2886.169485  2980.775165  7378.245350   \n",
       "2018-01-21     0.000000  2213.360195  2663.232057  7146.067747   \n",
       "2018-01-28     0.000000  1828.196513     0.000000  7018.753487   \n",
       "2018-02-04     0.000000     0.000000  2790.326902  7006.743098   \n",
       "...                 ...          ...          ...          ...   \n",
       "2021-10-03     0.000000     0.000000  2126.370391  6903.799609   \n",
       "2021-10-10  4089.578199  2219.920052  3016.680579  6577.931169   \n",
       "2021-10-17     0.000000  2542.196612  2666.350859  7630.742529   \n",
       "2021-10-24     0.000000     0.000000  2149.576162  6913.873838   \n",
       "2021-10-31     0.000000     0.000000  1836.568502  5413.641498   \n",
       "\n",
       "            Total Predicted Spend  \n",
       "Date                               \n",
       "2018-01-07                9779.80  \n",
       "2018-01-14               13245.19  \n",
       "2018-01-21               12022.66  \n",
       "2018-01-28                8846.95  \n",
       "2018-02-04                9797.07  \n",
       "...                           ...  \n",
       "2021-10-03                9030.17  \n",
       "2021-10-10               15904.11  \n",
       "2021-10-17               12839.29  \n",
       "2021-10-24                9063.45  \n",
       "2021-10-31                7250.21  \n",
       "\n",
       "[200 rows x 5 columns]"
      ]
     },
     "execution_count": 157,
     "metadata": {},
     "output_type": "execute_result"
    }
   ],
   "source": [
    "adjusted_contributions = (unadj_contributions.div(unadj_contributions.sum(axis=1), axis=0).mul(y, axis=0))\n",
    "adjusted_contributions[\"Total Predicted Spend\"] =  adjusted_contributions.sum(axis=1)\n",
    "adjusted_contributions"
   ]
  },
  {
   "cell_type": "code",
   "execution_count": 158,
   "metadata": {},
   "outputs": [
    {
     "data": {
      "text/plain": [
       "''"
      ]
     },
     "execution_count": 158,
     "metadata": {},
     "output_type": "execute_result"
    },
    {
     "data": {
      "image/png": "[encoded data removed]",
      "text/plain": [
       "<Figure size 1152x576 with 1 Axes>"
      ]
     },
     "metadata": {
      "needs_background": "light"
     },
     "output_type": "display_data"
    }
   ],
   "source": [
    "ax = (adjusted_contributions[['Base', 'Banners', 'Radio', 'TV']]\n",
    "      .plot.area(\n",
    "          figsize=(16, 8),\n",
    "          linewidth=1,\n",
    "          title='Predicted Sales and Breakdown',\n",
    "          ylabel='Sales',\n",
    "          xlabel='Date',fontsize=18)\n",
    "     )\n",
    "handles, labels = ax.get_legend_handles_labels()\n",
    "ax.legend(\n",
    "    handles[::-1], labels[::-1],\n",
    "    title='Channels', loc=\"center left\",\n",
    "    bbox_to_anchor=(1.01, 0.5),fontsize=18\n",
    ")\n",
    "ax.set_title('Predicted Sales Contribution by Channel',fontsize=24)\n",
    "plt.xlabel('Date',fontsize=18)\n",
    "plt.ylabel('Sales',fontsize=18)\n",
    "plt.legend(fontsize=18)\n",
    "plt.savefig('Images/predicted_sales_&_breakdown.png')\n",
    ";"
   ]
  },
  {
   "cell_type": "code",
   "execution_count": 159,
   "metadata": {},
   "outputs": [
    {
     "data": {
      "text/plain": [
       "{'TV': 0.3602450071355311,\n",
       " 'Radio': 0.4894958936930811,\n",
       " 'Banners': 1.2147284836194048}"
      ]
     },
     "execution_count": 159,
     "metadata": {},
     "output_type": "execute_result"
    }
   ],
   "source": [
    "roi = {'TV':[],'Radio':[],'Banners':[]}\n",
    "for channel in roi:\n",
    "    roi[channel] = adjusted_contributions[channel].sum()/data[channel].sum()\n",
    "roi"
   ]
  },
  {
   "cell_type": "code",
   "execution_count": 160,
   "metadata": {},
   "outputs": [
    {
     "data": {
      "text/plain": [
       "1.0"
      ]
     },
     "execution_count": 160,
     "metadata": {},
     "output_type": "execute_result"
    }
   ],
   "source": [
    "r2_score(y_true=y,y_pred=adjusted_contributions[\"Total Predicted Spend\"])"
   ]
  },
  {
   "cell_type": "code",
   "execution_count": 161,
   "metadata": {},
   "outputs": [],
   "source": [
    "# We had a perfect r2 number but that's not exactly fair because we saw all the data and learned it's pattern.\n",
    "#Let's see how the model does on unseen data."
   ]
  },
  {
   "cell_type": "markdown",
   "metadata": {},
   "source": [
    "### Attempt on unseen data"
   ]
  },
  {
   "cell_type": "code",
   "execution_count": 162,
   "metadata": {},
   "outputs": [
    {
     "data": {
      "text/plain": [
       "LinearRegression()"
      ]
     },
     "execution_count": 162,
     "metadata": {},
     "output_type": "execute_result"
    }
   ],
   "source": [
    "#Split our data into 2/3 for training and 1/3 for eval\n",
    "from sklearn.model_selection import train_test_split\n",
    "X_train, X_test, y_train, y_test = train_test_split(X, y, test_size=0.33, random_state=42)\n",
    "lr = LinearRegression()\n",
    "lr.fit(X_train,y_train)\n",
    "#lr.score(X_test, y_test)"
   ]
  },
  {
   "cell_type": "code",
   "execution_count": 163,
   "metadata": {},
   "outputs": [],
   "source": [
    "test_week_spend = data.loc[\"2021-10-10\"][0:3].values"
   ]
  },
  {
   "cell_type": "code",
   "execution_count": 164,
   "metadata": {},
   "outputs": [],
   "source": [
    "#Use sample week spend data to predict sales\n",
    "spend_test_prediction = lr.predict(([test_week_spend]))[0]"
   ]
  },
  {
   "cell_type": "code",
   "execution_count": 165,
   "metadata": {},
   "outputs": [
    {
     "name": "stdout",
     "output_type": "stream",
     "text": [
      "lr sales prediction 15992.602810755861\n",
      "Actual sales 15904.11\n",
      "Delta 88.49281075586077\n"
     ]
    }
   ],
   "source": [
    "#Now use our lr to attempt a prediction using this selected week's spend figure and our lr's coeficients\n",
    "print(f'lr sales prediction {spend_test_prediction}')\n",
    "print(f'Actual sales {data.loc[\"2021-10-10\"][3]}')\n",
    "print(f'Delta {spend_test_prediction-data.loc[\"2021-10-10\"][3]}')"
   ]
  },
  {
   "cell_type": "code",
   "execution_count": 166,
   "metadata": {},
   "outputs": [
    {
     "data": {
      "text/plain": [
       "0.9944666411213349"
      ]
     },
     "execution_count": 166,
     "metadata": {},
     "output_type": "execute_result"
    }
   ],
   "source": [
    "#Next find a correlation factor using truth and predictions\n",
    "correl_factor = data.loc[\"2021-10-10\"][3]/spend_test_prediction\n",
    "correl_factor"
   ]
  },
  {
   "cell_type": "code",
   "execution_count": 167,
   "metadata": {},
   "outputs": [
    {
     "data": {
      "text/html": [
       "<div>\n",
       "<style scoped>\n",
       "    .dataframe tbody tr th:only-of-type {\n",
       "        vertical-align: middle;\n",
       "    }\n",
       "\n",
       "    .dataframe tbody tr th {\n",
       "        vertical-align: top;\n",
       "    }\n",
       "\n",
       "    .dataframe thead th {\n",
       "        text-align: right;\n",
       "    }\n",
       "</style>\n",
       "<table border=\"1\" class=\"dataframe\">\n",
       "  <thead>\n",
       "    <tr style=\"text-align: right;\">\n",
       "      <th></th>\n",
       "      <th>TV</th>\n",
       "      <th>Radio</th>\n",
       "      <th>Banners</th>\n",
       "      <th>Base</th>\n",
       "    </tr>\n",
       "    <tr>\n",
       "      <th>Date</th>\n",
       "      <th></th>\n",
       "      <th></th>\n",
       "      <th></th>\n",
       "      <th></th>\n",
       "    </tr>\n",
       "  </thead>\n",
       "  <tbody>\n",
       "    <tr>\n",
       "      <th>2019-11-03</th>\n",
       "      <td>0.000000</td>\n",
       "      <td>2389.354825</td>\n",
       "      <td>2152.509228</td>\n",
       "      <td>6678.396934</td>\n",
       "    </tr>\n",
       "    <tr>\n",
       "      <th>2018-04-22</th>\n",
       "      <td>3719.097228</td>\n",
       "      <td>0.000000</td>\n",
       "      <td>2300.325524</td>\n",
       "      <td>6678.396934</td>\n",
       "    </tr>\n",
       "    <tr>\n",
       "      <th>2018-08-05</th>\n",
       "      <td>0.000000</td>\n",
       "      <td>2204.808860</td>\n",
       "      <td>2289.916266</td>\n",
       "      <td>6678.396934</td>\n",
       "    </tr>\n",
       "    <tr>\n",
       "      <th>2021-01-17</th>\n",
       "      <td>0.000000</td>\n",
       "      <td>0.000000</td>\n",
       "      <td>2690.775245</td>\n",
       "      <td>6678.396934</td>\n",
       "    </tr>\n",
       "    <tr>\n",
       "      <th>2020-06-21</th>\n",
       "      <td>3955.212233</td>\n",
       "      <td>2906.781802</td>\n",
       "      <td>2490.707607</td>\n",
       "      <td>6678.396934</td>\n",
       "    </tr>\n",
       "    <tr>\n",
       "      <th>...</th>\n",
       "      <td>...</td>\n",
       "      <td>...</td>\n",
       "      <td>...</td>\n",
       "      <td>...</td>\n",
       "    </tr>\n",
       "    <tr>\n",
       "      <th>2019-11-17</th>\n",
       "      <td>0.000000</td>\n",
       "      <td>0.000000</td>\n",
       "      <td>2212.130277</td>\n",
       "      <td>6678.396934</td>\n",
       "    </tr>\n",
       "    <tr>\n",
       "      <th>2018-08-12</th>\n",
       "      <td>0.000000</td>\n",
       "      <td>2704.861772</td>\n",
       "      <td>0.000000</td>\n",
       "      <td>6678.396934</td>\n",
       "    </tr>\n",
       "    <tr>\n",
       "      <th>2018-04-01</th>\n",
       "      <td>4017.092885</td>\n",
       "      <td>2621.271222</td>\n",
       "      <td>0.000000</td>\n",
       "      <td>6678.396934</td>\n",
       "    </tr>\n",
       "    <tr>\n",
       "      <th>2018-09-09</th>\n",
       "      <td>0.000000</td>\n",
       "      <td>1829.631176</td>\n",
       "      <td>2102.465180</td>\n",
       "      <td>6678.396934</td>\n",
       "    </tr>\n",
       "    <tr>\n",
       "      <th>2020-04-19</th>\n",
       "      <td>4129.470993</td>\n",
       "      <td>0.000000</td>\n",
       "      <td>2415.116850</td>\n",
       "      <td>6678.396934</td>\n",
       "    </tr>\n",
       "  </tbody>\n",
       "</table>\n",
       "<p>66 rows × 4 columns</p>\n",
       "</div>"
      ],
      "text/plain": [
       "                     TV        Radio      Banners         Base\n",
       "Date                                                          \n",
       "2019-11-03     0.000000  2389.354825  2152.509228  6678.396934\n",
       "2018-04-22  3719.097228     0.000000  2300.325524  6678.396934\n",
       "2018-08-05     0.000000  2204.808860  2289.916266  6678.396934\n",
       "2021-01-17     0.000000     0.000000  2690.775245  6678.396934\n",
       "2020-06-21  3955.212233  2906.781802  2490.707607  6678.396934\n",
       "...                 ...          ...          ...          ...\n",
       "2019-11-17     0.000000     0.000000  2212.130277  6678.396934\n",
       "2018-08-12     0.000000  2704.861772     0.000000  6678.396934\n",
       "2018-04-01  4017.092885  2621.271222     0.000000  6678.396934\n",
       "2018-09-09     0.000000  1829.631176  2102.465180  6678.396934\n",
       "2020-04-19  4129.470993     0.000000  2415.116850  6678.396934\n",
       "\n",
       "[66 rows x 4 columns]"
      ]
     },
     "execution_count": 167,
     "metadata": {},
     "output_type": "execute_result"
    }
   ],
   "source": [
    "#unadjusted_sales_predictions = weights * spend\n",
    "weights = pd.Series(lr.coef_,index=X_train.columns)\n",
    "#Now on the x_test\n",
    "#Create a Dataframe that contains the product of weights and spend numbers, this will need to be adjusted by the correl factor\n",
    "unadj_contributions = X_test.copy()\n",
    "unadj_contributions[\"TV\"] = unadj_contributions[\"TV\"]*weights.TV\n",
    "unadj_contributions[\"Radio\"] = unadj_contributions[\"Radio\"]*weights.Radio\n",
    "unadj_contributions[\"Banners\"] = unadj_contributions[\"Banners\"]*weights.Banners\n",
    "unadj_contributions[\"Base\"] = baseline\n",
    "unadj_contributions"
   ]
  },
  {
   "cell_type": "code",
   "execution_count": 168,
   "metadata": {},
   "outputs": [
    {
     "data": {
      "text/html": [
       "<div>\n",
       "<style scoped>\n",
       "    .dataframe tbody tr th:only-of-type {\n",
       "        vertical-align: middle;\n",
       "    }\n",
       "\n",
       "    .dataframe tbody tr th {\n",
       "        vertical-align: top;\n",
       "    }\n",
       "\n",
       "    .dataframe thead th {\n",
       "        text-align: right;\n",
       "    }\n",
       "</style>\n",
       "<table border=\"1\" class=\"dataframe\">\n",
       "  <thead>\n",
       "    <tr style=\"text-align: right;\">\n",
       "      <th></th>\n",
       "      <th>TV</th>\n",
       "      <th>Radio</th>\n",
       "      <th>Banners</th>\n",
       "      <th>Base</th>\n",
       "      <th>Total Predicted Spend</th>\n",
       "    </tr>\n",
       "    <tr>\n",
       "      <th>Date</th>\n",
       "      <th></th>\n",
       "      <th></th>\n",
       "      <th></th>\n",
       "      <th></th>\n",
       "      <th></th>\n",
       "    </tr>\n",
       "  </thead>\n",
       "  <tbody>\n",
       "    <tr>\n",
       "      <th>2019-11-03</th>\n",
       "      <td>0.000000</td>\n",
       "      <td>2376.133667</td>\n",
       "      <td>2140.598622</td>\n",
       "      <td>6641.442967</td>\n",
       "      <td>11158.175256</td>\n",
       "    </tr>\n",
       "    <tr>\n",
       "      <th>2018-04-22</th>\n",
       "      <td>3698.518128</td>\n",
       "      <td>0.000000</td>\n",
       "      <td>2287.596998</td>\n",
       "      <td>6641.442967</td>\n",
       "      <td>12627.558092</td>\n",
       "    </tr>\n",
       "    <tr>\n",
       "      <th>2018-08-05</th>\n",
       "      <td>0.000000</td>\n",
       "      <td>2192.608861</td>\n",
       "      <td>2277.245337</td>\n",
       "      <td>6641.442967</td>\n",
       "      <td>11111.297165</td>\n",
       "    </tr>\n",
       "    <tr>\n",
       "      <th>2021-01-17</th>\n",
       "      <td>0.000000</td>\n",
       "      <td>0.000000</td>\n",
       "      <td>2675.886220</td>\n",
       "      <td>6641.442967</td>\n",
       "      <td>9317.329186</td>\n",
       "    </tr>\n",
       "    <tr>\n",
       "      <th>2020-06-21</th>\n",
       "      <td>3933.326625</td>\n",
       "      <td>2890.697536</td>\n",
       "      <td>2476.925628</td>\n",
       "      <td>6641.442967</td>\n",
       "      <td>15942.392754</td>\n",
       "    </tr>\n",
       "    <tr>\n",
       "      <th>...</th>\n",
       "      <td>...</td>\n",
       "      <td>...</td>\n",
       "      <td>...</td>\n",
       "      <td>...</td>\n",
       "      <td>...</td>\n",
       "    </tr>\n",
       "    <tr>\n",
       "      <th>2019-11-17</th>\n",
       "      <td>0.000000</td>\n",
       "      <td>0.000000</td>\n",
       "      <td>2199.889766</td>\n",
       "      <td>6641.442967</td>\n",
       "      <td>8841.332733</td>\n",
       "    </tr>\n",
       "    <tr>\n",
       "      <th>2018-08-12</th>\n",
       "      <td>0.000000</td>\n",
       "      <td>2689.894801</td>\n",
       "      <td>0.000000</td>\n",
       "      <td>6641.442967</td>\n",
       "      <td>9331.337768</td>\n",
       "    </tr>\n",
       "    <tr>\n",
       "      <th>2018-04-01</th>\n",
       "      <td>3994.864868</td>\n",
       "      <td>2606.766788</td>\n",
       "      <td>0.000000</td>\n",
       "      <td>6641.442967</td>\n",
       "      <td>13243.074622</td>\n",
       "    </tr>\n",
       "    <tr>\n",
       "      <th>2018-09-09</th>\n",
       "      <td>0.000000</td>\n",
       "      <td>1819.507170</td>\n",
       "      <td>2090.831485</td>\n",
       "      <td>6641.442967</td>\n",
       "      <td>10551.781622</td>\n",
       "    </tr>\n",
       "    <tr>\n",
       "      <th>2020-04-19</th>\n",
       "      <td>4106.621148</td>\n",
       "      <td>0.000000</td>\n",
       "      <td>2401.753141</td>\n",
       "      <td>6641.442967</td>\n",
       "      <td>13149.817256</td>\n",
       "    </tr>\n",
       "  </tbody>\n",
       "</table>\n",
       "<p>66 rows × 5 columns</p>\n",
       "</div>"
      ],
      "text/plain": [
       "                     TV        Radio      Banners         Base  \\\n",
       "Date                                                             \n",
       "2019-11-03     0.000000  2376.133667  2140.598622  6641.442967   \n",
       "2018-04-22  3698.518128     0.000000  2287.596998  6641.442967   \n",
       "2018-08-05     0.000000  2192.608861  2277.245337  6641.442967   \n",
       "2021-01-17     0.000000     0.000000  2675.886220  6641.442967   \n",
       "2020-06-21  3933.326625  2890.697536  2476.925628  6641.442967   \n",
       "...                 ...          ...          ...          ...   \n",
       "2019-11-17     0.000000     0.000000  2199.889766  6641.442967   \n",
       "2018-08-12     0.000000  2689.894801     0.000000  6641.442967   \n",
       "2018-04-01  3994.864868  2606.766788     0.000000  6641.442967   \n",
       "2018-09-09     0.000000  1819.507170  2090.831485  6641.442967   \n",
       "2020-04-19  4106.621148     0.000000  2401.753141  6641.442967   \n",
       "\n",
       "            Total Predicted Spend  \n",
       "Date                               \n",
       "2019-11-03           11158.175256  \n",
       "2018-04-22           12627.558092  \n",
       "2018-08-05           11111.297165  \n",
       "2021-01-17            9317.329186  \n",
       "2020-06-21           15942.392754  \n",
       "...                           ...  \n",
       "2019-11-17            8841.332733  \n",
       "2018-08-12            9331.337768  \n",
       "2018-04-01           13243.074622  \n",
       "2018-09-09           10551.781622  \n",
       "2020-04-19           13149.817256  \n",
       "\n",
       "[66 rows x 5 columns]"
      ]
     },
     "execution_count": 168,
     "metadata": {},
     "output_type": "execute_result"
    }
   ],
   "source": [
    "#Now we adjust the contributions based on our naive correl factor from training\n",
    "adjusted_contributions = unadj_contributions.mul(correl_factor,axis=0)\n",
    "adjusted_contributions[\"Total Predicted Spend\"] =  adjusted_contributions.sum(axis=1)\n",
    "adjusted_contributions"
   ]
  },
  {
   "cell_type": "code",
   "execution_count": 169,
   "metadata": {},
   "outputs": [
    {
     "name": "stdout",
     "output_type": "stream",
     "text": [
      "adjusted R2 0.8232431652722243\n"
     ]
    }
   ],
   "source": [
    "print(f'adjusted R2 {r2_score(y_true=y_test,y_pred=adjusted_contributions[\"Total Predicted Spend\"])}')"
   ]
  },
  {
   "cell_type": "code",
   "execution_count": 170,
   "metadata": {},
   "outputs": [
    {
     "data": {
      "text/plain": [
       "{'TV': 0.11238120757362816,\n",
       " 'Radio': 0.14342429769462278,\n",
       " 'Banners': 0.42312870897586125}"
      ]
     },
     "execution_count": 170,
     "metadata": {},
     "output_type": "execute_result"
    }
   ],
   "source": [
    "roi = {'TV':[],'Radio':[],'Banners':[]}\n",
    "for channel in roi:\n",
    "    roi[channel] = adjusted_contributions[channel].sum()/data[channel].sum()\n",
    "roi"
   ]
  },
  {
   "cell_type": "code",
   "execution_count": 171,
   "metadata": {},
   "outputs": [],
   "source": [
    "#Our r2 is understandably lower but still pretty strong at 0.8!"
   ]
  },
  {
   "cell_type": "markdown",
   "metadata": {},
   "source": [
    "### Simple linear regression on unseen data"
   ]
  },
  {
   "cell_type": "code",
   "execution_count": 172,
   "metadata": {},
   "outputs": [
    {
     "data": {
      "text/plain": [
       "0.8261056233741675"
      ]
     },
     "execution_count": 172,
     "metadata": {},
     "output_type": "execute_result"
    }
   ],
   "source": [
    "lr = LinearRegression()\n",
    "lr.fit(X_train,y_train)\n",
    "lr.score(X_test, y_test)"
   ]
  },
  {
   "cell_type": "code",
   "execution_count": 173,
   "metadata": {},
   "outputs": [],
   "source": [
    "total_spend = X.copy()\n",
    "total_spend[\"Spend Total\"] = total_spend[\"TV\"] + total_spend[\"Radio\"] +total_spend[\"Banners\"]\n",
    "total_spend = total_spend[[\"Spend Total\"]]"
   ]
  },
  {
   "cell_type": "code",
   "execution_count": 176,
   "metadata": {},
   "outputs": [
    {
     "data": {
      "text/plain": [
       "''"
      ]
     },
     "execution_count": 176,
     "metadata": {},
     "output_type": "execute_result"
    },
    {
     "data": {
      "image/png": "[encoded data removed]",
      "text/plain": [
       "<Figure size 864x432 with 1 Axes>"
      ]
     },
     "metadata": {
      "needs_background": "light"
     },
     "output_type": "display_data"
    }
   ],
   "source": [
    "fig, ax = plt.subplots(figsize=(12, 6))\n",
    "ax.scatter(total_spend, y,color=\"black\")\n",
    "ax.plot(total_spend, lr.predict(X), color=\"blue\", linewidth=3)\n",
    "ax.set_xlabel(\"Marketing Spend\")\n",
    "ax.set_ylabel(\"Sales\")\n",
    "ax.legend([\"Predicted\",\"Actual\"])\n",
    "ax.set_title(\"Simiple LR Marketing Mix Model\")\n",
    "plt.savefig('Images/Simiple_LR_MMM.png')\n",
    ";"
   ]
  }
 ],
 "metadata": {
  "kernelspec": {
   "display_name": "Python (learn-env)",
   "language": "python",
   "name": "learn-env"
  },
  "language_info": {
   "codemirror_mode": {
    "name": "ipython",
    "version": 3
   },
   "file_extension": ".py",
   "mimetype": "text/x-python",
   "name": "python",
   "nbconvert_exporter": "python",
   "pygments_lexer": "ipython3",
   "version": "3.8.5"
  }
 },
 "nbformat": 4,
 "nbformat_minor": 4
}
