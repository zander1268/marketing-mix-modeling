{
 "cells": [
  {
   "cell_type": "code",
   "execution_count": 2,
   "metadata": {},
   "outputs": [],
   "source": [
    "import pandas as pd"
   ]
  },
  {
   "cell_type": "code",
   "execution_count": 3,
   "metadata": {},
   "outputs": [],
   "source": [
    "dataset_link =  \"https://raw.githubusercontent.com/Garve/datasets/fdb81840fb96faeda5a874efa1b9bbfb83ce1929/bhmmm.csv\"\n",
    "data = pd.read_csv(dataset_link)"
   ]
  },
  {
   "cell_type": "code",
   "execution_count": 4,
   "metadata": {},
   "outputs": [
    {
     "data": {
      "text/html": [
       "<div>\n",
       "<style scoped>\n",
       "    .dataframe tbody tr th:only-of-type {\n",
       "        vertical-align: middle;\n",
       "    }\n",
       "\n",
       "    .dataframe tbody tr th {\n",
       "        vertical-align: top;\n",
       "    }\n",
       "\n",
       "    .dataframe thead th {\n",
       "        text-align: right;\n",
       "    }\n",
       "</style>\n",
       "<table border=\"1\" class=\"dataframe\">\n",
       "  <thead>\n",
       "    <tr style=\"text-align: right;\">\n",
       "      <th></th>\n",
       "      <th>Country</th>\n",
       "      <th>Date</th>\n",
       "      <th>TV</th>\n",
       "      <th>Radio</th>\n",
       "      <th>Banners</th>\n",
       "      <th>Sales</th>\n",
       "    </tr>\n",
       "  </thead>\n",
       "  <tbody>\n",
       "    <tr>\n",
       "      <th>0</th>\n",
       "      <td>Germany</td>\n",
       "      <td>2018-01-07</td>\n",
       "      <td>13528.104692</td>\n",
       "      <td>0.000000</td>\n",
       "      <td>0.000000</td>\n",
       "      <td>5279.797721</td>\n",
       "    </tr>\n",
       "    <tr>\n",
       "      <th>1</th>\n",
       "      <td>Germany</td>\n",
       "      <td>2018-01-14</td>\n",
       "      <td>0.000000</td>\n",
       "      <td>5349.654457</td>\n",
       "      <td>2218.927675</td>\n",
       "      <td>8745.187503</td>\n",
       "    </tr>\n",
       "    <tr>\n",
       "      <th>2</th>\n",
       "      <td>Germany</td>\n",
       "      <td>2018-01-21</td>\n",
       "      <td>0.000000</td>\n",
       "      <td>4235.856076</td>\n",
       "      <td>2046.964305</td>\n",
       "      <td>7522.658746</td>\n",
       "    </tr>\n",
       "    <tr>\n",
       "      <th>3</th>\n",
       "      <td>Germany</td>\n",
       "      <td>2018-01-28</td>\n",
       "      <td>0.000000</td>\n",
       "      <td>3562.208526</td>\n",
       "      <td>0.000000</td>\n",
       "      <td>4346.954005</td>\n",
       "    </tr>\n",
       "    <tr>\n",
       "      <th>4</th>\n",
       "      <td>Germany</td>\n",
       "      <td>2018-02-04</td>\n",
       "      <td>0.000000</td>\n",
       "      <td>0.000000</td>\n",
       "      <td>2187.289145</td>\n",
       "      <td>5297.070969</td>\n",
       "    </tr>\n",
       "    <tr>\n",
       "      <th>...</th>\n",
       "      <td>...</td>\n",
       "      <td>...</td>\n",
       "      <td>...</td>\n",
       "      <td>...</td>\n",
       "      <td>...</td>\n",
       "      <td>...</td>\n",
       "    </tr>\n",
       "    <tr>\n",
       "      <th>315</th>\n",
       "      <td>Switzerland</td>\n",
       "      <td>2018-04-22</td>\n",
       "      <td>0.000000</td>\n",
       "      <td>6199.736176</td>\n",
       "      <td>1995.974179</td>\n",
       "      <td>8260.525106</td>\n",
       "    </tr>\n",
       "    <tr>\n",
       "      <th>316</th>\n",
       "      <td>Switzerland</td>\n",
       "      <td>2018-04-29</td>\n",
       "      <td>0.000000</td>\n",
       "      <td>5456.153036</td>\n",
       "      <td>2155.004653</td>\n",
       "      <td>8067.092448</td>\n",
       "    </tr>\n",
       "    <tr>\n",
       "      <th>317</th>\n",
       "      <td>Switzerland</td>\n",
       "      <td>2018-05-06</td>\n",
       "      <td>0.000000</td>\n",
       "      <td>4642.420968</td>\n",
       "      <td>0.000000</td>\n",
       "      <td>4039.670872</td>\n",
       "    </tr>\n",
       "    <tr>\n",
       "      <th>318</th>\n",
       "      <td>Switzerland</td>\n",
       "      <td>2018-05-13</td>\n",
       "      <td>10076.254768</td>\n",
       "      <td>5041.082226</td>\n",
       "      <td>1838.256494</td>\n",
       "      <td>9721.207803</td>\n",
       "    </tr>\n",
       "    <tr>\n",
       "      <th>319</th>\n",
       "      <td>Switzerland</td>\n",
       "      <td>2018-05-20</td>\n",
       "      <td>0.000000</td>\n",
       "      <td>5593.465920</td>\n",
       "      <td>0.000000</td>\n",
       "      <td>6122.552884</td>\n",
       "    </tr>\n",
       "  </tbody>\n",
       "</table>\n",
       "<p>320 rows × 6 columns</p>\n",
       "</div>"
      ],
      "text/plain": [
       "         Country        Date            TV        Radio      Banners  \\\n",
       "0        Germany  2018-01-07  13528.104692     0.000000     0.000000   \n",
       "1        Germany  2018-01-14      0.000000  5349.654457  2218.927675   \n",
       "2        Germany  2018-01-21      0.000000  4235.856076  2046.964305   \n",
       "3        Germany  2018-01-28      0.000000  3562.208526     0.000000   \n",
       "4        Germany  2018-02-04      0.000000     0.000000  2187.289145   \n",
       "..           ...         ...           ...          ...          ...   \n",
       "315  Switzerland  2018-04-22      0.000000  6199.736176  1995.974179   \n",
       "316  Switzerland  2018-04-29      0.000000  5456.153036  2155.004653   \n",
       "317  Switzerland  2018-05-06      0.000000  4642.420968     0.000000   \n",
       "318  Switzerland  2018-05-13  10076.254768  5041.082226  1838.256494   \n",
       "319  Switzerland  2018-05-20      0.000000  5593.465920     0.000000   \n",
       "\n",
       "           Sales  \n",
       "0    5279.797721  \n",
       "1    8745.187503  \n",
       "2    7522.658746  \n",
       "3    4346.954005  \n",
       "4    5297.070969  \n",
       "..           ...  \n",
       "315  8260.525106  \n",
       "316  8067.092448  \n",
       "317  4039.670872  \n",
       "318  9721.207803  \n",
       "319  6122.552884  \n",
       "\n",
       "[320 rows x 6 columns]"
      ]
     },
     "execution_count": 4,
     "metadata": {},
     "output_type": "execute_result"
    }
   ],
   "source": [
    "data"
   ]
  },
  {
   "cell_type": "code",
   "execution_count": 6,
   "metadata": {},
   "outputs": [],
   "source": [
    "X = data.drop(columns=[\"Sales\",\"Date\"])\n",
    "y = data[\"Sales\"]"
   ]
  },
  {
   "cell_type": "markdown",
   "metadata": {},
   "source": [
    "## Break"
   ]
  },
  {
   "cell_type": "code",
   "execution_count": 7,
   "metadata": {},
   "outputs": [],
   "source": [
    "data = pd.read_csv(   'https://raw.githubusercontent.com/Garve/datasets/4576d323bf2b66c906d5130d686245ad205505cf/mmm.csv',\n",
    "    parse_dates=['Date'],\n",
    "    index_col='Date'\n",
    ")\n",
    "X = data.drop(columns=['Sales'])\n",
    "y = data['Sales']"
   ]
  },
  {
   "cell_type": "markdown",
   "metadata": {},
   "source": [
    "## Attempt w/ Linear Regression"
   ]
  },
  {
   "cell_type": "code",
   "execution_count": 8,
   "metadata": {},
   "outputs": [
    {
     "name": "stdout",
     "output_type": "stream",
     "text": [
      "[0.69594303 0.69302285 0.66850729 0.78807363 0.73512387]\n"
     ]
    }
   ],
   "source": [
    "from sklearn.linear_model import LinearRegression\n",
    "from sklearn.model_selection import cross_val_score, TimeSeriesSplit\n",
    "import pandas as pd\n",
    "data = pd.read_csv(\n",
    "    'https://raw.githubusercontent.com/Garve/datasets/4576d323bf2b66c906d5130d686245ad205505cf/mmm.csv',\n",
    "    parse_dates=['Date'],\n",
    "    index_col='Date'\n",
    ")\n",
    "X = data.drop(columns=['Sales'])\n",
    "y = data['Sales']\n",
    "lr = LinearRegression()\n",
    "print(cross_val_score(lr, X, y, cv=TimeSeriesSplit()))\n"
   ]
  },
  {
   "cell_type": "code",
   "execution_count": 10,
   "metadata": {},
   "outputs": [
    {
     "data": {
      "text/plain": [
       "LinearRegression()"
      ]
     },
     "execution_count": 10,
     "metadata": {},
     "output_type": "execute_result"
    }
   ],
   "source": [
    "lr.fit(X,y)"
   ]
  },
  {
   "cell_type": "code",
   "execution_count": 26,
   "metadata": {},
   "outputs": [
    {
     "data": {
      "text/plain": [
       "array([0.35968382, 0.48833246, 1.2159193 ])"
      ]
     },
     "execution_count": 26,
     "metadata": {},
     "output_type": "execute_result"
    }
   ],
   "source": [
    "lr.coef_.flatten()"
   ]
  },
  {
   "cell_type": "code",
   "execution_count": 22,
   "metadata": {},
   "outputs": [
    {
     "data": {
      "text/plain": [
       "[0.3596838209896532, 0.4883324635915398, 1.2159193013722256]"
      ]
     },
     "execution_count": 22,
     "metadata": {},
     "output_type": "execute_result"
    }
   ],
   "source": [
    "lr.coef_"
   ]
  },
  {
   "cell_type": "code",
   "execution_count": 28,
   "metadata": {},
   "outputs": [],
   "source": [
    "lr_coef_table = pd.DataFrame(lr.coef_.flatten())"
   ]
  },
  {
   "cell_type": "code",
   "execution_count": 34,
   "metadata": {},
   "outputs": [
    {
     "data": {
      "text/html": [
       "<div>\n",
       "<style scoped>\n",
       "    .dataframe tbody tr th:only-of-type {\n",
       "        vertical-align: middle;\n",
       "    }\n",
       "\n",
       "    .dataframe tbody tr th {\n",
       "        vertical-align: top;\n",
       "    }\n",
       "\n",
       "    .dataframe thead th {\n",
       "        text-align: right;\n",
       "    }\n",
       "</style>\n",
       "<table border=\"1\" class=\"dataframe\">\n",
       "  <thead>\n",
       "    <tr style=\"text-align: right;\">\n",
       "      <th></th>\n",
       "      <th>0</th>\n",
       "      <th>1</th>\n",
       "      <th>2</th>\n",
       "    </tr>\n",
       "  </thead>\n",
       "  <tbody>\n",
       "    <tr>\n",
       "      <th>0</th>\n",
       "      <td>0.359684</td>\n",
       "      <td>0.488332</td>\n",
       "      <td>1.215919</td>\n",
       "    </tr>\n",
       "  </tbody>\n",
       "</table>\n",
       "</div>"
      ],
      "text/plain": [
       "          0         1         2\n",
       "0  0.359684  0.488332  1.215919"
      ]
     },
     "execution_count": 34,
     "metadata": {},
     "output_type": "execute_result"
    }
   ],
   "source": [
    "lr_coef_table = lr_coef_table.transpose()\n",
    "lr_coef_table"
   ]
  },
  {
   "cell_type": "code",
   "execution_count": 41,
   "metadata": {},
   "outputs": [],
   "source": [
    "lr_coef_table.columns = list(X.columns)"
   ]
  },
  {
   "cell_type": "code",
   "execution_count": 42,
   "metadata": {},
   "outputs": [
    {
     "data": {
      "text/html": [
       "<div>\n",
       "<style scoped>\n",
       "    .dataframe tbody tr th:only-of-type {\n",
       "        vertical-align: middle;\n",
       "    }\n",
       "\n",
       "    .dataframe tbody tr th {\n",
       "        vertical-align: top;\n",
       "    }\n",
       "\n",
       "    .dataframe thead th {\n",
       "        text-align: right;\n",
       "    }\n",
       "</style>\n",
       "<table border=\"1\" class=\"dataframe\">\n",
       "  <thead>\n",
       "    <tr style=\"text-align: right;\">\n",
       "      <th></th>\n",
       "      <th>TV</th>\n",
       "      <th>Radio</th>\n",
       "      <th>Banners</th>\n",
       "    </tr>\n",
       "  </thead>\n",
       "  <tbody>\n",
       "    <tr>\n",
       "      <th>0</th>\n",
       "      <td>0.359684</td>\n",
       "      <td>0.488332</td>\n",
       "      <td>1.215919</td>\n",
       "    </tr>\n",
       "  </tbody>\n",
       "</table>\n",
       "</div>"
      ],
      "text/plain": [
       "         TV     Radio   Banners\n",
       "0  0.359684  0.488332  1.215919"
      ]
     },
     "execution_count": 42,
     "metadata": {},
     "output_type": "execute_result"
    }
   ],
   "source": [
    "lr_coef_table"
   ]
  },
  {
   "cell_type": "code",
   "execution_count": null,
   "metadata": {},
   "outputs": [],
   "source": []
  }
 ],
 "metadata": {
  "kernelspec": {
   "display_name": "Python (learn-env)",
   "language": "python",
   "name": "learn-env"
  },
  "language_info": {
   "codemirror_mode": {
    "name": "ipython",
    "version": 3
   },
   "file_extension": ".py",
   "mimetype": "text/x-python",
   "name": "python",
   "nbconvert_exporter": "python",
   "pygments_lexer": "ipython3",
   "version": "3.8.5"
  }
 },
 "nbformat": 4,
 "nbformat_minor": 4
}
